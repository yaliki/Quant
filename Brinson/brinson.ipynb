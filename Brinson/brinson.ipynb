{
 "cells": [
  {
   "cell_type": "code",
   "execution_count": 31,
   "metadata": {},
   "outputs": [],
   "source": [
    "import pandas as pd\n",
    "import numpy as np\n",
    "import csv\n",
    "import os\n",
    "import random\n",
    "import re\n",
    "import requests\n",
    "import xlrd\n",
    "import matplotlib.pyplot as plt\n",
    "import math\n",
    "import datetime"
   ]
  },
  {
   "cell_type": "code",
   "execution_count": 1,
   "metadata": {},
   "outputs": [],
   "source": [
    "# use 000300 as benchmark;399906 as fund\n",
    "index = pd.read_csv('ind_return.csv')\n",
    "indus = pd.read_csv('stock_ind.csv')\n",
    "s300 = pd.read_csv('index_300.csv')\n",
    "s800 = pd.read_csv('index_800.csv')"
   ]
  },
  {
   "cell_type": "code",
   "execution_count": 68,
   "metadata": {},
   "outputs": [],
   "source": [
    "# merge industry code with each stock in 000300\n",
    "indus['Stkcd1'] = indus['Stkcd1'].astype('str')\n",
    "s300['Stkcd'] = s300['Stkcd'].astype('str')\n",
    "\n",
    "Stkcd = []\n",
    "for i in range(len(indus['Stkcd1'])):\n",
    "    Stkcd.append(str(indus['Stkcd1'][i])[0:6])\n",
    "Stkcd   \n",
    "indus['Stkcd'] = Stkcd\n",
    "indus['Stkcd'] = indus['Stkcd'].astype('int')\n",
    "indus['Stkcd'] = indus['Stkcd'].astype('str')\n",
    "ind_l = indus[['Stkcd','行业指数代码']]\n",
    "\n",
    "stand = pd.merge(s300,ind_l,on = 'Stkcd',how = 'left')\n",
    "stand.to_csv('index300_ind.csv',encoding = 'utf-8-sig')\n",
    "\n",
    "# caculate weight of industry in benchmark\n",
    "gp = stand.groupby(['行业指数代码','Enddt'])['Weight'].sum()\n",
    "gp = pd.DataFrame(gp)\n",
    "gp = gp.reset_index()\n",
    "gp.to_csv('300_ind.csv',encoding = 'utf-8-sig')"
   ]
  },
  {
   "cell_type": "code",
   "execution_count": null,
   "metadata": {},
   "outputs": [],
   "source": [
    "# ---择时收益：持仓比重*行业指数---\n",
    "\n",
    "gp=ind300\n",
    "ind300 = ind300[(ind300.行业指数代码 != '0')]\n",
    "\n",
    "ind_r = index.values\n",
    "from itertools import chain\n",
    "find_r = (list(chain.from_iterable(ind_r)))\n",
    "ind300['ind_r'] = find_r\n",
    "\n",
    "ind300['ind_r_total'] = ind300['Weight']*ind300['ind_r']/100\n",
    "zs = ind300.groupby(['Enddt'])['ind_r_total'].sum()\n",
    "zs = pd.DataFrame(zs)\n",
    "zs = zs.reset_index()\n",
    "zs.to_csv('zs.csv',encoding = 'utf-8-sig')"
   ]
  },
  {
   "cell_type": "code",
   "execution_count": 4,
   "metadata": {},
   "outputs": [],
   "source": [
    "# merge industry code with each stock in 399906\n",
    "s800['Stkcd'] = s800['Stkcd'].astype('str')\n",
    "s800 = pd.merge(s800,ind_l,on = 'Stkcd',how = 'left')\n",
    "\n",
    "gp = stand.groupby(['行业指数代码','Enddt'])['Weight'].sum()\n",
    "gp = pd.DataFrame(gp)\n",
    "gp = gp.reset_index()\n",
    "gp.to_csv('800_ind.csv',encoding = 'utf-8-sig')\n",
    "gp=stand\n",
    "\n",
    "#daily return of each stock\n",
    "dyr = pd.read_csv('daily_return.csv')\n",
    "\n",
    "dyr['Stkcd'] = dyr['Stkcd'].astype('int')\n",
    "dyr['Stkcd'] = dyr['Stkcd'].astype('str')\n",
    "dyr.rename(columns={'Trddt':'Enddt'}, inplace=True) \n",
    "\n",
    "stk800 = pd.merge(stand,dyr,on = ['Stkcd','Enddt'],how = 'left')\n",
    "stk800.dropna(inplace = True)\n",
    "print(stk300.head())\n",
    "\n",
    "stk800['dyr'] = stk800['Weight']*stk800['Dretwd']\n",
    "gp = stk800.groupby(['Enddt','行业指数代码'])['dyr'].sum()\n",
    "gp = pd.DataFrame(gp)\n",
    "gp = gp.reset_index()\n",
    "gp = gp[(gp.行业指数代码!= '0')]\n",
    "print(gp.head())\n",
    "gp.to_csv('800_ind_r.csv',encoding = 'utf-8-sig')"
   ]
  },
  {
   "cell_type": "code",
   "execution_count": 6,
   "metadata": {},
   "outputs": [],
   "source": [
    "# ---选股收益：行业比重*行业持仓收益---\n",
    "ind800 = ind800[(ind800.行业指数代码!= '0')]\n",
    "box_300r = pd.merge(ind800,gp,on = ['行业指数代码','Enddt'],how = 'left')\n",
    "box_300r['ind_r'] = box_300r['Weight']*box_300r['dyr']\n",
    "box_300r.rename(columns={'Weight':'基准行业比重','dyr':'持仓行业回报率加权','ind_r':'行业基准比重*行业持仓收益'}, inplace=True) \n",
    "box_300r['行业基准比重*行业持仓收益'] = box_300r['行业基准比重*行业持仓收益']*100\n",
    "\n",
    "xg = box_300r.groupby(['Enddt'])['ind_r'].sum()\n",
    "xg = pd.DataFrame(xg)\n",
    "xg = xg.reset_index()\n",
    "xg.head()\n",
    "xg.to_csv('xg.csv',encoding = 'utf-8-sig')"
   ]
  },
  {
   "cell_type": "code",
   "execution_count": 5,
   "metadata": {},
   "outputs": [],
   "source": [
    "res = pd.read_excel('指数回报.xlsx',encoding = 'gbk')\n",
    "res.rename(columns={'Idxtrd01':'Enddt','Idxtrd08':'dyr'}, inplace=True) \n",
    "\n",
    "r300 = res[(res.Indexcd == '000300')]\n",
    "r300 = r300[['Enddt', 'dyr']]\n",
    "r800 = res[(res.Indexcd == '000906')]\n",
    "r800 = r800[['Enddt', 'dyr']]\n",
    "\n",
    "tbl = pd.merge(zs,xg,on = 'Enddt',how='left')\n",
    "tbl.rename(columns={'ind_r_total':'行业偏离','ind_r':'个股选择'}, inplace=True) \n",
    "tbl = pd.merge(tbl,r300,on = 'Enddt',how='left' )\n",
    "tbl = pd.merge(tbl,r800,on = 'Enddt',how='left' )\n",
    "tbl.rename(columns={'dyr_x':'超额收益率','dyr_y':'基准'}, inplace=True) \n",
    "tbl.dropna(inplace=True)\n",
    "tbl['其他'] = tbl['超额收益率']-tbl['个股选择']-tbl['行业偏离']+tbl['基准']\n",
    "tbl['择时收益'] = tbl['行业偏离'] - tbl['基准']\n",
    "tbl['选股收益'] = tbl['个股选择'] - tbl['基准']\n",
    "ktbl = tbl[['交易日期', '超额收益率',  '择时收益', '选股收益', '其他', '基准']]\n",
    "print(ktbl.head())\n",
    "ktbl.to_csv('final_brinson.csv',encoding = 'utf-8-sig')"
   ]
  }
 ],
 "metadata": {
  "kernelspec": {
   "display_name": "Python 3",
   "language": "python",
   "name": "python3"
  },
  "language_info": {
   "codemirror_mode": {
    "name": "ipython",
    "version": 3
   },
   "file_extension": ".py",
   "mimetype": "text/x-python",
   "name": "python",
   "nbconvert_exporter": "python",
   "pygments_lexer": "ipython3",
   "version": "3.7.1"
  }
 },
 "nbformat": 4,
 "nbformat_minor": 2
}
